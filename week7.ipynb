{
  "nbformat": 4,
  "nbformat_minor": 0,
  "metadata": {
    "colab": {
      "name": "week7.ipynb",
      "provenance": []
    },
    "kernelspec": {
      "name": "python3",
      "display_name": "Python 3"
    }
  },
  "cells": [
    {
      "cell_type": "code",
      "metadata": {
        "id": "tS4OgQqbcsRJ",
        "outputId": "b557e2c7-ed35-4902-a988-0f3eeb7b90e6",
        "colab": {
          "base_uri": "https://localhost:8080/"
        }
      },
      "source": [
        "A =5%2\n",
        "B =18**2\n",
        "magic_number = A*9+B\n",
        "print(magic_number)"
      ],
      "execution_count": 8,
      "outputs": [
        {
          "output_type": "stream",
          "text": [
            "333\n"
          ],
          "name": "stdout"
        }
      ]
    }
  ]
}